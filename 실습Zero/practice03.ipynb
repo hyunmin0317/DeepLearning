{
 "cells": [
  {
   "cell_type": "markdown",
   "id": "genuine-russell",
   "metadata": {},
   "source": [
    "### 3. 파이토치 기초"
   ]
  },
  {
   "cell_type": "code",
   "execution_count": 1,
   "id": "western-counter",
   "metadata": {},
   "outputs": [],
   "source": [
    "import torch\n",
    "\n",
    "def print_val(x):\n",
    "    print \"Type:\", type(x)\n",
    "    print \"Shape:\", x.shape\n",
    "    print \"값:\\n\", x\n",
    "    print \" \""
   ]
  },
  {
   "cell_type": "code",
   "execution_count": 2,
   "id": "demonstrated-insider",
   "metadata": {},
   "outputs": [
    {
     "name": "stdout",
     "output_type": "stream",
     "text": [
      "Type: <class 'torch.Tensor'>\n",
      "Shape: torch.Size([2, 3, 2])\n",
      "값:\n",
      "tensor([[[0.8116, 0.6675],\n",
      "         [0.6676, 0.2857],\n",
      "         [0.0927, 0.5112]],\n",
      "\n",
      "        [[0.6910, 0.6184],\n",
      "         [0.1310, 0.0754],\n",
      "         [0.3937, 0.2680]]])\n",
      " \n",
      "Type: <class 'torch.Tensor'>\n",
      "Shape: torch.Size([2, 3])\n",
      "값:\n",
      "tensor([[ 0.6042,  0.0526,  0.3709],\n",
      "        [-2.4780,  0.7886, -0.7422]])\n",
      " \n"
     ]
    }
   ],
   "source": [
    "x = torch.rand(2,3,2)\n",
    "print_val(x)\n",
    "\n",
    "x = torch.randn(2,3)\n",
    "print_val(x)"
   ]
  },
  {
   "cell_type": "code",
   "execution_count": 3,
   "id": "vocational-mason",
   "metadata": {},
   "outputs": [
    {
     "name": "stdout",
     "output_type": "stream",
     "text": [
      "Type: <class 'torch.Tensor'>\n",
      "Shape: torch.Size([4])\n",
      "값:\n",
      "tensor([3, 0, 2, 1])\n",
      " \n"
     ]
    }
   ],
   "source": [
    "x = torch.randperm(4)\n",
    "print_val(x)"
   ]
  },
  {
   "cell_type": "code",
   "execution_count": 4,
   "id": "dietary-denial",
   "metadata": {},
   "outputs": [
    {
     "name": "stdout",
     "output_type": "stream",
     "text": [
      "Type: <class 'torch.Tensor'>\n",
      "Shape: torch.Size([6])\n",
      "값:\n",
      "tensor([0.0000, 0.5000, 1.0000, 1.5000, 2.0000, 2.5000])\n",
      " \n"
     ]
    }
   ],
   "source": [
    "x = torch.arange(0, 3, step=0.5)\n",
    "print_val(x)"
   ]
  },
  {
   "cell_type": "code",
   "execution_count": 5,
   "id": "cooperative-smoke",
   "metadata": {},
   "outputs": [
    {
     "name": "stdout",
     "output_type": "stream",
     "text": [
      "Type: <class 'torch.Tensor'>\n",
      "Shape: torch.Size([3, 4])\n",
      "값:\n",
      "tensor([[1., 1., 1., 1.],\n",
      "        [1., 1., 1., 1.],\n",
      "        [1., 1., 1., 1.]])\n",
      " \n",
      "Type: <class 'torch.Tensor'>\n",
      "Shape: torch.Size([3, 4])\n",
      "값:\n",
      "tensor([[0., 0., 0., 0.],\n",
      "        [0., 0., 0., 0.],\n",
      "        [0., 0., 0., 0.]])\n",
      " \n"
     ]
    }
   ],
   "source": [
    "print_val(torch.ones(3,4))\n",
    "print_val(torch.zeros(3,4))"
   ]
  },
  {
   "cell_type": "code",
   "execution_count": 6,
   "id": "considered-bubble",
   "metadata": {},
   "outputs": [
    {
     "name": "stdout",
     "output_type": "stream",
     "text": [
      "Type: <class 'torch.Tensor'>\n",
      "Shape: torch.Size([2, 4])\n",
      "값:\n",
      "tensor([[-1.5439e-01,  3.0746e-41, -1.5439e-01,  3.0746e-41],\n",
      "        [-1.5439e-01,  3.0746e-41, -1.5439e-01,  3.0746e-41]])\n",
      " \n"
     ]
    }
   ],
   "source": [
    "print_val(torch.Tensor(2,4))"
   ]
  },
  {
   "cell_type": "code",
   "execution_count": 7,
   "id": "crazy-treatment",
   "metadata": {},
   "outputs": [
    {
     "name": "stdout",
     "output_type": "stream",
     "text": [
      "Type: <class 'torch.Tensor'>\n",
      "Shape: torch.Size([2])\n",
      "값:\n",
      "tensor([2., 3.])\n",
      " \n",
      "Type: <class 'torch.Tensor'>\n",
      "Shape: torch.Size([2, 2])\n",
      "값:\n",
      "tensor([[2., 3.],\n",
      "        [3., 4.]])\n",
      " \n"
     ]
    }
   ],
   "source": [
    "print_val(torch.Tensor([2,3]))\n",
    "print_val(torch.Tensor([[2,3], [3,4]]))"
   ]
  },
  {
   "cell_type": "code",
   "execution_count": 8,
   "id": "resident-threshold",
   "metadata": {},
   "outputs": [
    {
     "name": "stdout",
     "output_type": "stream",
     "text": [
      "Type: <class 'torch.Tensor'>\n",
      "Shape: torch.Size([2, 3])\n",
      "값:\n",
      "tensor([[2.1898e+05, 4.5839e-41, 2.1898e+05],\n",
      "        [4.5839e-41, 1.1774e-02, 4.5839e-41]])\n",
      " \n",
      "Type: <class 'torch.Tensor'>\n",
      "Shape: torch.Size([2, 3])\n",
      "값:\n",
      "tensor([[218976,      0, 218976],\n",
      "        [     0,      0,      0]], dtype=torch.int32)\n",
      " \n"
     ]
    }
   ],
   "source": [
    "x = torch.FloatTensor(2,3)\n",
    "print_val(x)\n",
    "\n",
    "x = x.type_as(torch.IntTensor())\n",
    "print_val(x)"
   ]
  },
  {
   "cell_type": "code",
   "execution_count": 9,
   "id": "palestinian-norfolk",
   "metadata": {},
   "outputs": [
    {
     "data": {
      "text/plain": [
       "torch.Size([3, 4, 5])"
      ]
     },
     "execution_count": 9,
     "metadata": {},
     "output_type": "execute_result"
    }
   ],
   "source": [
    "torch.FloatTensor(3,4,5).size()"
   ]
  },
  {
   "cell_type": "code",
   "execution_count": 10,
   "id": "spiritual-trinidad",
   "metadata": {},
   "outputs": [
    {
     "name": "stdout",
     "output_type": "stream",
     "text": [
      "Type: <type 'numpy.ndarray'>\n",
      "Shape: (2, 3)\n",
      "값:\n",
      "[[140497981509456 140497981509520 140497981509584]\n",
      " [140497981096016 140498179808528 140498179808624]]\n",
      " \n",
      "Type: <class 'torch.Tensor'>\n",
      "Shape: torch.Size([2, 3])\n",
      "값:\n",
      "tensor([[140497981509456, 140497981509520, 140497981509584],\n",
      "        [140497981096016, 140498179808528, 140498179808624]])\n",
      " \n"
     ]
    }
   ],
   "source": [
    "import numpy as np\n",
    "np_x = np.ndarray((2,3), dtype=int)\n",
    "print_val(np_x)\n",
    "\n",
    "x = torch.from_numpy(np_x)\n",
    "print_val(x)"
   ]
  },
  {
   "cell_type": "code",
   "execution_count": null,
   "id": "derived-george",
   "metadata": {},
   "outputs": [],
   "source": []
  }
 ],
 "metadata": {
  "kernelspec": {
   "display_name": "conda_pytorch_p27",
   "language": "python",
   "name": "conda_pytorch_p27"
  },
  "language_info": {
   "codemirror_mode": {
    "name": "ipython",
    "version": 2
   },
   "file_extension": ".py",
   "mimetype": "text/x-python",
   "name": "python",
   "nbconvert_exporter": "python",
   "pygments_lexer": "ipython2",
   "version": "2.7.16"
  }
 },
 "nbformat": 4,
 "nbformat_minor": 5
}
